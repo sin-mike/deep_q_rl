{
 "cells": [
  {
   "cell_type": "code",
   "execution_count": 8,
   "metadata": {
    "collapsed": true
   },
   "outputs": [],
   "source": [
    "%matplotlib inline\n",
    "import matplotlib.pyplot as plt\n",
    "import numpy as np"
   ]
  },
  {
   "cell_type": "code",
   "execution_count": 16,
   "metadata": {
    "collapsed": false
   },
   "outputs": [
    {
     "name": "stdout",
     "output_type": "stream",
     "text": [
      "rom                 lives     actions   \n",
      "asterix             3         9         \n",
      "bank_heist          5         18        \n",
      "berzerk             3         18        \n",
      "Bowling             0         6         \n",
      "boxing              0         18        \n",
      "breakout            5         6         \n",
      "carnival            0         6         \n",
      "centipede           3         18        \n",
      "crazy_climber       5         9         \n",
      "defender            3         18        \n",
      "demon_attack        4         6         \n",
      "double_dunk         0         18        \n",
      "elevator_action     4         18        \n",
      "fishing_derby       0         18        \n",
      "freeway             0         3         \n",
      "gopher              3         8         \n",
      "gravitar            6         18        \n",
      "hero                4         18        \n",
      "ice_hockey          0         18        \n",
      "jamesbond           6         18        \n",
      "kangaroo            3         18        \n",
      "krull               3         18        \n",
      "kung_fu_master      4         14        \n",
      "name_this_game      3         6         \n",
      "phoenix             5         8         \n",
      "pong                0         6         \n",
      "pooyan              3         6         \n",
      "riverraid           4         18        \n",
      "road_runner         3         18        \n",
      "robotank            4         18        \n",
      "seaquest            4         18        \n",
      "solaris             3         18        \n",
      "space_invaders      3         6         \n",
      "time_pilot          5         10        \n",
      "tutankham           3         8         \n",
      "wizard_of_wor       3         10        \n",
      "zaxxon              5         18        \n"
     ]
    }
   ],
   "source": [
    "import os\n",
    "import ale_python_interface\n",
    "\n",
    "path = os.path.join(os.path.abspath(os.path.curdir), '..', 'roms')\n",
    "\n",
    "roms = os.listdir(path)\n",
    "\n",
    "template = \"{0:<20}{1:<10}{2:<10}\"\n",
    "print template.format('rom', 'lives', 'actions')\n",
    "ale = ale_python_interface.ALEInterface()\n",
    "for rom in roms:\n",
    "    if rom.endswith('.bin'):\n",
    "        # let's skip one rom...\n",
    "        if '2' in rom:\n",
    "            continue\n",
    "        ale.loadROM(os.path.join(path, rom))\n",
    "        num_actions = len(ale.getMinimalActionSet())\n",
    "        lives = ale.lives()\n",
    "        \n",
    "        print template.format(rom[:-4], lives, num_actions)\n"
   ]
  },
  {
   "cell_type": "code",
   "execution_count": 13,
   "metadata": {
    "collapsed": false
   },
   "outputs": [
    {
     "name": "stdout",
     "output_type": "stream",
     "text": [
      "134400\n",
      "67200\n"
     ]
    },
    {
     "ename": "ValueError",
     "evalue": "total size of new array must be unchanged",
     "output_type": "error",
     "traceback": [
      "\u001b[0;31m---------------------------------------------------------------------------\u001b[0m",
      "\u001b[0;31mValueError\u001b[0m                                Traceback (most recent call last)",
      "\u001b[0;32m<ipython-input-13-0b78f767a3d7>\u001b[0m in \u001b[0;36m<module>\u001b[0;34m()\u001b[0m\n\u001b[1;32m      9\u001b[0m \u001b[0;34m\u001b[0m\u001b[0m\n\u001b[1;32m     10\u001b[0m \u001b[0mq\u001b[0m \u001b[0;34m=\u001b[0m \u001b[0mnp\u001b[0m\u001b[0;34m.\u001b[0m\u001b[0mfrombuffer\u001b[0m\u001b[0;34m(\u001b[0m\u001b[0mbyte_str\u001b[0m\u001b[0;34m,\u001b[0m \u001b[0mdtype\u001b[0m\u001b[0;34m=\u001b[0m\u001b[0;34m'uint8'\u001b[0m\u001b[0;34m)\u001b[0m\u001b[0;34m\u001b[0m\u001b[0m\n\u001b[0;32m---> 11\u001b[0;31m \u001b[0;32mprint\u001b[0m \u001b[0mq\u001b[0m\u001b[0;34m.\u001b[0m\u001b[0mreshape\u001b[0m\u001b[0;34m(\u001b[0m\u001b[0;34m(\u001b[0m\u001b[0;36m190\u001b[0m\u001b[0;34m,\u001b[0m \u001b[0;34m-\u001b[0m\u001b[0;36m1\u001b[0m\u001b[0;34m)\u001b[0m\u001b[0;34m)\u001b[0m\u001b[0;34m\u001b[0m\u001b[0m\n\u001b[0m",
      "\u001b[0;31mValueError\u001b[0m: total size of new array must be unchanged"
     ]
    }
   ],
   "source": [
    "import numpy as np\n",
    "import codecs\n",
    "\n",
    "txt = None\n",
    "with open('dump.txt', 'r') as fin:\n",
    "    txt = fin.readlines()[0]\n",
    "    print len(txt)\n",
    "    byte_str = codecs.decode(txt, 'hex_codec')\n",
    "    print len(byte_str)\n",
    "\n",
    "q = np.frombuffer(byte_str, dtype='uint8').reshape(()\n",
    "print q.reshape((190, ))"
   ]
  },
  {
   "cell_type": "code",
   "execution_count": null,
   "metadata": {
    "collapsed": false
   },
   "outputs": [],
   "source": []
  },
  {
   "cell_type": "code",
   "execution_count": 22,
   "metadata": {
    "collapsed": false
   },
   "outputs": [
    {
     "name": "stdout",
     "output_type": "stream",
     "text": [
      "/Users/m12sl/Projects/deep_q_rl/deep_q_rl/../roms/demon_attack.bin\n",
      "[ 0  1  2  3  4  5  6  7  8  9 10 11 12 13 14 15 16 17]\n",
      "[ 0  1  3  4 11 12]\n",
      "False\n",
      "(210, 160, 3)\n",
      "(210, 160)\n",
      "0 140\n"
     ]
    },
    {
     "data": {
      "image/png": "[encoded data removed]",
      "text/plain": [
       "<matplotlib.figure.Figure at 0x1103b6d50>"
      ]
     },
     "metadata": {},
     "output_type": "display_data"
    },
    {
     "name": "stdout",
     "output_type": "stream",
     "text": [
      "(210, 160)\n",
      "0 220\n"
     ]
    },
    {
     "data": {
      "image/png": "[encoded data removed]",
      "text/plain": [
       "<matplotlib.figure.Figure at 0x11038dfd0>"
      ]
     },
     "metadata": {},
     "output_type": "display_data"
    },
    {
     "data": {
      "image/png": "[encoded data removed]",
      "text/plain": [
       "<matplotlib.figure.Figure at 0x1115e6b10>"
      ]
     },
     "metadata": {},
     "output_type": "display_data"
    }
   ],
   "source": [
    "import cv2\n",
    "path = os.path.join(os.path.abspath(os.path.curdir), '..', 'roms')\n",
    "\n",
    "roms = os.listdir(path)\n",
    "\n",
    "rom = os.path.join(path, roms[10])\n",
    "print rom\n",
    "ale = ale_python_interface.ALEInterface()\n",
    "ale.loadROM(rom)\n",
    "\n",
    "print ale.getLegalActionSet()\n",
    "print ale.getMinimalActionSet()\n",
    "print ale.game_over()\n",
    "\n",
    "q = ale.getScreenRGB()\n",
    "r = ale.getScreen().reshape(210, 160)\n",
    "\n",
    "print q.shape\n",
    "\n",
    "print r.shape\n",
    "\n",
    "print np.min(r), np.max(r)\n",
    "\n",
    "plt.imshow(q)\n",
    "plt.show()\n",
    "\n",
    "\n",
    "gray = np.dot(q[...,:3].astype('float'), [0.299, 0.587, 0.144]).astype('uint8')\n",
    "print gray.shape\n",
    "print np.min(gray), np.max(gray)\n",
    "\n",
    "np.sum(np.abs(gray - r))\n",
    "\n",
    "plt.imshow(gray)\n",
    "plt.show()\n",
    "plt.imshow(r)\n",
    "plt.show()\n",
    "\n",
    "\n",
    "\n",
    "\n"
   ]
  },
  {
   "cell_type": "code",
   "execution_count": null,
   "metadata": {
    "collapsed": true
   },
   "outputs": [],
   "source": []
  }
 ],
 "metadata": {
  "kernelspec": {
   "display_name": "Python 2",
   "language": "python",
   "name": "python2"
  },
  "language_info": {
   "codemirror_mode": {
    "name": "ipython",
    "version": 2
   },
   "file_extension": ".py",
   "mimetype": "text/x-python",
   "name": "python",
   "nbconvert_exporter": "python",
   "pygments_lexer": "ipython2",
   "version": "2.7.9"
  }
 },
 "nbformat": 4,
 "nbformat_minor": 0
}
