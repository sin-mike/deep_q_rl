{
 "cells": [
  {
   "cell_type": "code",
   "execution_count": 1,
   "metadata": {
    "collapsed": true
   },
   "outputs": [],
   "source": [
    "%matplotlib inline\n",
    "import matplotlib.pyplot as plt\n",
    "import matplotlib.cm as cm\n",
    "import numpy as np"
   ]
  },
  {
   "cell_type": "code",
   "execution_count": 3,
   "metadata": {
    "collapsed": false
   },
   "outputs": [
    {
     "name": "stdout",
     "output_type": "stream",
     "text": [
      "rom                 lives     actions   \n",
      "asterix             3         9         \n",
      "bank_heist          5         18        \n",
      "berzerk             3         18        \n",
      "Bowling             0         6         \n",
      "boxing              0         18        \n",
      "breakout            5         6         \n",
      "carnival            0         6         \n",
      "centipede           3         18        \n",
      "crazy_climber       5         9         \n",
      "defender            3         18        \n",
      "demon_attack        4         6         \n",
      "double_dunk         0         18        \n",
      "elevator_action     4         18        \n",
      "fishing_derby       0         18        \n",
      "freeway             0         3         \n",
      "gopher              3         8         \n",
      "gravitar            6         18        \n",
      "hero                4         18        \n",
      "ice_hockey          0         18        \n",
      "jamesbond           6         18        \n",
      "kangaroo            3         18        \n",
      "krull               3         18        \n",
      "kung_fu_master      4         14        \n",
      "name_this_game      3         6         \n",
      "phoenix             5         8         \n",
      "pong                0         6         \n",
      "pooyan              3         6         \n",
      "riverraid           4         18        \n",
      "road_runner         3         18        \n",
      "robotank            4         18        \n",
      "seaquest            4         18        \n",
      "solaris             3         18        \n",
      "space_invaders      3         6         \n",
      "time_pilot          5         10        \n",
      "tutankham           3         8         \n",
      "wizard_of_wor       3         10        \n",
      "zaxxon              5         18        \n"
     ]
    }
   ],
   "source": [
    "import os\n",
    "import ale_python_interface\n",
    "\n",
    "path = os.path.join(os.path.abspath(os.path.curdir), '..', 'roms')\n",
    "\n",
    "roms = os.listdir(path)\n",
    "\n",
    "template = \"{0:<20}{1:<10}{2:<10}\"\n",
    "print template.format('rom', 'lives', 'actions')\n",
    "ale = ale_python_interface.ALEInterface()\n",
    "for rom in roms:\n",
    "    if rom.endswith('.bin'):\n",
    "        # let's skip one rom...\n",
    "        if '2' in rom:\n",
    "            continue\n",
    "        ale.loadROM(os.path.join(path, rom))\n",
    "        num_actions = len(ale.getMinimalActionSet())\n",
    "        lives = ale.lives()\n",
    "        \n",
    "        print template.format(rom[:-4], lives, num_actions)\n"
   ]
  },
  {
   "cell_type": "code",
   "execution_count": 7,
   "metadata": {
    "collapsed": false
   },
   "outputs": [
    {
     "name": "stdout",
     "output_type": "stream",
     "text": [
      "268800\n",
      "134400\n"
     ]
    }
   ],
   "source": [
    "import numpy as np\n",
    "import codecs\n",
    "\n",
    "txt = None\n",
    "with open('dump.txt', 'r') as fin:\n",
    "    txt = fin.readlines()[0]\n",
    "    print len(txt)\n",
    "    byte_str = codecs.decode(txt, 'hex_codec')\n",
    "    print len(byte_str)\n",
    "\n",
    "# q = np.frombuffer(byte_str, dtype='uint8').reshape(())\n"
   ]
  },
  {
   "cell_type": "code",
   "execution_count": null,
   "metadata": {
    "collapsed": false
   },
   "outputs": [],
   "source": []
  },
  {
   "cell_type": "code",
   "execution_count": 17,
   "metadata": {
    "collapsed": false,
    "scrolled": true
   },
   "outputs": [
    {
     "name": "stdout",
     "output_type": "stream",
     "text": [
      "/Users/m12sl/Projects/deep_q_rl/deep_q_rl/../roms/demon_attack.bin\n",
      "[ 0  1  2  3  4  5  6  7  8  9 10 11 12 13 14 15 16 17]\n",
      "[ 0  1  3  4 11 12]\n",
      "False\n",
      "(210, 160, 3)\n",
      "(210, 160)\n",
      "0 140\n"
     ]
    },
    {
     "data": {
      "image/png": "[encoded data removed]",
      "text/plain": [
       "<matplotlib.figure.Figure at 0x10dd92bd0>"
      ]
     },
     "metadata": {},
     "output_type": "display_data"
    },
    {
     "name": "stdout",
     "output_type": "stream",
     "text": [
      "(210, 160)\n",
      "0 220\n"
     ]
    },
    {
     "data": {
      "image/png": "[encoded data removed]",
      "text/plain": [
       "<matplotlib.figure.Figure at 0x10c7d55d0>"
      ]
     },
     "metadata": {},
     "output_type": "display_data"
    },
    {
     "data": {
      "image/png": "[encoded data removed]",
      "text/plain": [
       "<matplotlib.figure.Figure at 0x10dcb7ed0>"
      ]
     },
     "metadata": {},
     "output_type": "display_data"
    },
    {
     "data": {
      "image/png": "[encoded data removed]",
      "text/plain": [
       "<matplotlib.figure.Figure at 0x10c96ed90>"
      ]
     },
     "metadata": {},
     "output_type": "display_data"
    },
    {
     "name": "stdout",
     "output_type": "stream",
     "text": [
      "220 0\n",
      "214 0\n",
      "235\n"
     ]
    },
    {
     "data": {
      "image/png": "[encoded data removed]",
      "text/plain": [
       "<matplotlib.figure.Figure at 0x10c3b0b10>"
      ]
     },
     "metadata": {},
     "output_type": "display_data"
    },
    {
     "data": {
      "image/png": "[encoded data removed]",
      "text/plain": [
       "<matplotlib.figure.Figure at 0x10de42fd0>"
      ]
     },
     "metadata": {},
     "output_type": "display_data"
    }
   ],
   "source": [
    "import cv2\n",
    "path = os.path.join(os.path.abspath(os.path.curdir), '..', 'roms')\n",
    "\n",
    "roms = os.listdir(path)\n",
    "\n",
    "rom = os.path.join(path, roms[10])\n",
    "print rom\n",
    "ale = ale_python_interface.ALEInterface()\n",
    "ale.loadROM(rom)\n",
    "\n",
    "print ale.getLegalActionSet()\n",
    "print ale.getMinimalActionSet()\n",
    "print ale.game_over()\n",
    "\n",
    "q = ale.getScreenRGB()\n",
    "r = ale.getScreen().reshape(210, 160)\n",
    "\n",
    "print q.shape\n",
    "\n",
    "print r.shape\n",
    "\n",
    "print np.min(r), np.max(r)\n",
    "\n",
    "plt.imshow(q)\n",
    "plt.show()\n",
    "\n",
    "\n",
    "grey = cv2.cvtColor(q, cv2.COLOR_RGB2GRAY)\n",
    "gray = np.dot(q[...,:3].astype('float'), [0.299, 0.587, 0.144]).astype('uint8')\n",
    "print gray.shape\n",
    "print np.min(gray), np.max(gray)\n",
    "\n",
    "plt.imshow(r, cmap=cm.Greys_r, label='cv2')\n",
    "plt.show()\n",
    "\n",
    "\n",
    "plt.imshow(grey, cmap=cm.Greys_r, label='cv2')\n",
    "plt.show()\n",
    "\n",
    "plt.imshow(gray, cmap=cm.Greys_r, label='math')\n",
    "plt.show()\n",
    "\n",
    "for g in [gray, grey]:\n",
    "    print np.max(g), np.min(g)\n",
    "\n",
    "print np.max(np.abs(grey/220*214-gray))\n",
    "\n",
    "plt.imshow(gray-grey)\n",
    "plt.show()\n",
    "\n",
    "\n",
    "plt.imshow(r, cmap=cm.Greys_r, label=\"pipe\")\n",
    "plt.show()"
   ]
  },
  {
   "cell_type": "code",
   "execution_count": null,
   "metadata": {
    "collapsed": true
   },
   "outputs": [],
   "source": []
  }
 ],
 "metadata": {
  "kernelspec": {
   "display_name": "Python 2",
   "language": "python",
   "name": "python2"
  },
  "language_info": {
   "codemirror_mode": {
    "name": "ipython",
    "version": 2
   },
   "file_extension": ".py",
   "mimetype": "text/x-python",
   "name": "python",
   "nbconvert_exporter": "python",
   "pygments_lexer": "ipython2",
   "version": "2.7.9"
  }
 },
 "nbformat": 4,
 "nbformat_minor": 0
}
